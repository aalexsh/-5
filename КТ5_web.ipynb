{
  "nbformat": 4,
  "nbformat_minor": 0,
  "metadata": {
    "colab": {
      "provenance": []
    },
    "kernelspec": {
      "name": "python3",
      "display_name": "Python 3"
    },
    "language_info": {
      "name": "python"
    }
  },
  "cells": [
    {
      "cell_type": "markdown",
      "source": [
        "<p align=\"center\"><b><font color=\"red\">Визитная карточка</font></b></p>"
      ],
      "metadata": {
        "id": "OAaTf6SAI_qf"
      }
    },
    {
      "cell_type": "markdown",
      "source": [
        "<h1>Леонардо Вильгельм Ди Каприо"
      ],
      "metadata": {
        "id": "m_5P-K8hJFr6"
      }
    },
    {
      "cell_type": "markdown",
      "source": [
        "#### Информация о сотруднике"
      ],
      "metadata": {
        "id": "fGUK-pt2KgKS"
      }
    },
    {
      "cell_type": "markdown",
      "source": [
        "<ul>\n",
        "<li>Мужской</li>\n",
        "<li>Дата рождения: 11.11.1974 </li>\n",
        "<li>Образование: неоконченная старшая школа Джона Маршалла </li>\n",
        "<li>Должность: Актер в Голливуде </li>\n",
        "<li>Место жительства: Лос-Анджелес, Калифорния, США </li>"
      ],
      "metadata": {
        "id": "7DwI2ntLKm8-"
      }
    },
    {
      "cell_type": "markdown",
      "source": [
        "Личная страница:\n",
        "(http://leonardodicaprio.com)\n",
        "[Сайт Ди Каприо](http://leonardodicaprio.com)"
      ],
      "metadata": {
        "id": "29mvqynhM_-g"
      }
    },
    {
      "cell_type": "markdown",
      "source": [
        "![image](https://preview.redd.it/young-leo-dicaprio-v0-442zw6rcezjb1.jpg?width=640&crop=smart&auto=webp&s=bc251ff1f6f007003c40c5bfe3316ac5a3c02463)"
      ],
      "metadata": {
        "id": "dhkqMLNkNiyG"
      }
    },
    {
      "cell_type": "markdown",
      "source": [
        "$$y(x) = \\frac{\\sum_{i=1}^{n} \\sum_{j=2}^{m} 9^2_i x_j}{\\sqrt{\\frac{9}{W^2}}} $$\n"
      ],
      "metadata": {
        "id": "kU_AcfegNXMb"
      }
    }
  ]
}